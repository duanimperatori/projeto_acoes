{
 "cells": [
  {
   "cell_type": "code",
   "execution_count": 78,
   "metadata": {},
   "outputs": [],
   "source": [
    "import yfinance as yf\n",
    "import requests, zipfile\n",
    "from datetime import date, timedelta\n",
    "from pyspark.sql.types import StructField, StructType, StringType, IntegerType, DecimalType, DateType, TimestampType, FloatType\n",
    "from pyspark.sql.functions import udf, col, lit, when, trim, month, year\n",
    "from pyspark import SparkFiles"
   ]
  },
  {
   "attachments": {},
   "cell_type": "markdown",
   "metadata": {},
   "source": [
    "#### call lib"
   ]
  },
  {
   "cell_type": "code",
   "execution_count": 2,
   "metadata": {},
   "outputs": [
    {
     "name": "stderr",
     "output_type": "stream",
     "text": [
      "WARNING: An illegal reflective access operation has occurred\n",
      "WARNING: Illegal reflective access by org.apache.spark.unsafe.Platform (file:/usr/local/spark-3.1.2-bin-hadoop3.2/jars/spark-unsafe_2.12-3.1.2.jar) to constructor java.nio.DirectByteBuffer(long,int)\n",
      "WARNING: Please consider reporting this to the maintainers of org.apache.spark.unsafe.Platform\n",
      "WARNING: Use --illegal-access=warn to enable warnings of further illegal reflective access operations\n",
      "WARNING: All illegal access operations will be denied in a future release\n"
     ]
    },
    {
     "name": "stdout",
     "output_type": "stream",
     "text": [
      ":: loading settings :: url = jar:file:/usr/local/spark-3.1.2-bin-hadoop3.2/jars/ivy-2.4.0.jar!/org/apache/ivy/core/settings/ivysettings.xml\n"
     ]
    },
    {
     "name": "stderr",
     "output_type": "stream",
     "text": [
      "Ivy Default Cache set to: /home/jovyan/.ivy2/cache\n",
      "The jars for the packages stored in: /home/jovyan/.ivy2/jars\n",
      "io.delta#delta-core_2.12 added as a dependency\n",
      ":: resolving dependencies :: org.apache.spark#spark-submit-parent-bd797aa9-e2a0-4a1e-b553-5f8789945f1b;1.0\n",
      "\tconfs: [default]\n",
      "\tfound io.delta#delta-core_2.12;1.0.0 in central\n",
      "\tfound org.antlr#antlr4;4.7 in central\n",
      "\tfound org.antlr#antlr4-runtime;4.7 in central\n",
      "\tfound org.antlr#antlr-runtime;3.5.2 in central\n",
      "\tfound org.antlr#ST4;4.0.8 in central\n",
      "\tfound org.abego.treelayout#org.abego.treelayout.core;1.0.3 in central\n",
      "\tfound org.glassfish#javax.json;1.0.4 in central\n",
      "\tfound com.ibm.icu#icu4j;58.2 in central\n",
      "downloading https://repo1.maven.org/maven2/io/delta/delta-core_2.12/1.0.0/delta-core_2.12-1.0.0.jar ...\n",
      "\t[SUCCESSFUL ] io.delta#delta-core_2.12;1.0.0!delta-core_2.12.jar (995ms)\n",
      "downloading https://repo1.maven.org/maven2/org/antlr/antlr4/4.7/antlr4-4.7.jar ...\n",
      "\t[SUCCESSFUL ] org.antlr#antlr4;4.7!antlr4.jar (246ms)\n",
      "downloading https://repo1.maven.org/maven2/org/antlr/antlr4-runtime/4.7/antlr4-runtime-4.7.jar ...\n",
      "\t[SUCCESSFUL ] org.antlr#antlr4-runtime;4.7!antlr4-runtime.jar (173ms)\n",
      "downloading https://repo1.maven.org/maven2/org/antlr/antlr-runtime/3.5.2/antlr-runtime-3.5.2.jar ...\n",
      "\t[SUCCESSFUL ] org.antlr#antlr-runtime;3.5.2!antlr-runtime.jar (159ms)\n",
      "downloading https://repo1.maven.org/maven2/org/antlr/ST4/4.0.8/ST4-4.0.8.jar ...\n",
      "\t[SUCCESSFUL ] org.antlr#ST4;4.0.8!ST4.jar (166ms)\n",
      "downloading https://repo1.maven.org/maven2/org/abego/treelayout/org.abego.treelayout.core/1.0.3/org.abego.treelayout.core-1.0.3.jar ...\n",
      "\t[SUCCESSFUL ] org.abego.treelayout#org.abego.treelayout.core;1.0.3!org.abego.treelayout.core.jar(bundle) (148ms)\n",
      "downloading https://repo1.maven.org/maven2/org/glassfish/javax.json/1.0.4/javax.json-1.0.4.jar ...\n",
      "\t[SUCCESSFUL ] org.glassfish#javax.json;1.0.4!javax.json.jar(bundle) (153ms)\n",
      "downloading https://repo1.maven.org/maven2/com/ibm/icu/icu4j/58.2/icu4j-58.2.jar ...\n",
      "\t[SUCCESSFUL ] com.ibm.icu#icu4j;58.2!icu4j.jar (1134ms)\n",
      ":: resolution report :: resolve 14148ms :: artifacts dl 3180ms\n",
      "\t:: modules in use:\n",
      "\tcom.ibm.icu#icu4j;58.2 from central in [default]\n",
      "\tio.delta#delta-core_2.12;1.0.0 from central in [default]\n",
      "\torg.abego.treelayout#org.abego.treelayout.core;1.0.3 from central in [default]\n",
      "\torg.antlr#ST4;4.0.8 from central in [default]\n",
      "\torg.antlr#antlr-runtime;3.5.2 from central in [default]\n",
      "\torg.antlr#antlr4;4.7 from central in [default]\n",
      "\torg.antlr#antlr4-runtime;4.7 from central in [default]\n",
      "\torg.glassfish#javax.json;1.0.4 from central in [default]\n",
      "\t---------------------------------------------------------------------\n",
      "\t|                  |            modules            ||   artifacts   |\n",
      "\t|       conf       | number| search|dwnlded|evicted|| number|dwnlded|\n",
      "\t---------------------------------------------------------------------\n",
      "\t|      default     |   8   |   8   |   8   |   0   ||   8   |   8   |\n",
      "\t---------------------------------------------------------------------\n",
      ":: retrieving :: org.apache.spark#spark-submit-parent-bd797aa9-e2a0-4a1e-b553-5f8789945f1b\n",
      "\tconfs: [default]\n",
      "\t8 artifacts copied, 0 already retrieved (15452kB/62ms)\n",
      "23/04/09 20:28:39 WARN NativeCodeLoader: Unable to load native-hadoop library for your platform... using builtin-java classes where applicable\n",
      "Using Spark's default log4j profile: org/apache/spark/log4j-defaults.properties\n",
      "Setting default log level to \"WARN\".\n",
      "To adjust logging level use sc.setLogLevel(newLevel). For SparkR, use setLogLevel(newLevel).\n"
     ]
    }
   ],
   "source": [
    "%run ./work/lib.ipynb"
   ]
  },
  {
   "attachments": {},
   "cell_type": "markdown",
   "metadata": {},
   "source": [
    "##### Parametro"
   ]
  },
  {
   "cell_type": "code",
   "execution_count": null,
   "metadata": {},
   "outputs": [],
   "source": []
  },
  {
   "attachments": {},
   "cell_type": "markdown",
   "metadata": {},
   "source": [
    "#### request cvm"
   ]
  },
  {
   "cell_type": "code",
   "execution_count": 47,
   "metadata": {},
   "outputs": [],
   "source": [
    "def get_cvm_financial_statement(fs_type: str, year: int, spark=spark):\n",
    "    \"\"\"\n",
    "    financial statements type (fs_type)\n",
    "    -- BPA - Assets\n",
    "    -- BPP - Liabilities\n",
    "    -- DRE - Income Statement\n",
    "    -- DFC_MI - Indirect Cash Flow\n",
    "    -- DFC_MD - Direct Cash Flow\n",
    "    \"\"\"\n",
    "    import pandas as pd\n",
    "\n",
    "    url = f'https://dados.cvm.gov.br/dados/CIA_ABERTA/DOC/ITR/DADOS/itr_cia_aberta_{year}.zip'\n",
    "    arquivo_zip = f'itr_cia_aberta_{year}.zip'\n",
    "    arquivo_csv = f'itr_cia_aberta_{fs_type}_con_{year}.csv'\n",
    "\n",
    "    download = requests.get(url)\n",
    "\n",
    "    with open(arquivo_zip, 'wb') as arquivo_cvm:\n",
    "        arquivo_cvm.write(download.content)\n",
    "\n",
    "    arquivo_zip = zipfile.ZipFile(arquivo_zip)\n",
    "\n",
    "    stocks_df = pd.read_csv(arquivo_zip.open(name=arquivo_csv), sep=';', encoding='ISO-8859-1')\n",
    "\n",
    "    df = spark.createDataFrame(stocks_df)\n",
    "\n",
    "    return df"
   ]
  },
  {
   "cell_type": "code",
   "execution_count": 91,
   "metadata": {},
   "outputs": [],
   "source": [
    "asset_df = \\\n",
    "    get_cvm_financial_statement('BPA', 2022) \\\n",
    "        .select(\n",
    "            trim('CNPJ_CIA').alias('cnpj'),\n",
    "            col('DT_REFER').cast('date').alias('base_date'),\n",
    "            col('GRUPO_DFP').alias('financial_statement_type'),\n",
    "            col('MOEDA').alias('currency'),\n",
    "            col('ESCALA_MOEDA').alias('scale'),\n",
    "            col('ORDEM_EXERC').alias('order'),\n",
    "            lit('').cast('date').alias('start_of_period'),\n",
    "            col('DT_FIM_EXERC').cast('date').alias('end_of_period'),\n",
    "            trim('CD_CONTA').alias('id_account'),\n",
    "            col('DS_CONTA').alias('account_description'),\n",
    "            col('VL_CONTA').cast('decimal(15, 2)').alias('value'),\n",
    "            col('ST_CONTA_FIXA').alias('account_status'),\n",
    "            lit('Assets').alias('type'),\n",
    "            lit('YTD').alias('period_type')\n",
    "        )"
   ]
  },
  {
   "cell_type": "code",
   "execution_count": 80,
   "metadata": {},
   "outputs": [],
   "source": [
    "liabilities_df = \\\n",
    "    get_cvm_financial_statement('BPP', 2022) \\\n",
    "        .select(\n",
    "            trim('CNPJ_CIA').alias('cnpj'),\n",
    "            col('DT_REFER').cast('date').alias('base_date'),\n",
    "            col('GRUPO_DFP').alias('financial_statement_type'),\n",
    "            col('MOEDA').alias('currency'),\n",
    "            col('ESCALA_MOEDA').alias('scale'),\n",
    "            col('ORDEM_EXERC').alias('order'),\n",
    "            lit('').cast('date').alias('start_of_period'),\n",
    "            col('DT_FIM_EXERC').cast('date').alias('end_of_period'),\n",
    "            trim('CD_CONTA').alias('id_account'),\n",
    "            col('DS_CONTA').alias('account_description'),\n",
    "            col('VL_CONTA').cast('decimal(15, 2)').alias('value'),\n",
    "            col('ST_CONTA_FIXA').alias('account_status'),\n",
    "            lit('Liabilities').alias('type'),\n",
    "            lit('YTD').alias('period_type')\n",
    "        )"
   ]
  },
  {
   "cell_type": "code",
   "execution_count": 84,
   "metadata": {},
   "outputs": [],
   "source": [
    "income_statement_df = \\\n",
    "    get_cvm_financial_statement('DRE', 2022) \\\n",
    "        .where(\n",
    "            (col('CNPJ_CIA') == '00.000.000/0001-91') &\n",
    "            (col('CD_CONTA') == '3.01')\n",
    "         ) \\\n",
    "        .select(\n",
    "            trim('CNPJ_CIA').alias('cnpj'),\n",
    "            col('DT_REFER').cast('date').alias('base_date'),\n",
    "            col('GRUPO_DFP').alias('financial_statement_type'),\n",
    "            col('MOEDA').alias('currency'),\n",
    "            col('ESCALA_MOEDA').alias('scale'),\n",
    "            col('ORDEM_EXERC').alias('order'),\n",
    "            col('DT_INI_EXERC').cast('date').alias('start_of_period'),\n",
    "            col('DT_FIM_EXERC').cast('date').alias('end_of_period'),\n",
    "            trim('CD_CONTA').alias('id_account'),\n",
    "            col('DS_CONTA').alias('account_description'),\n",
    "            col('VL_CONTA').cast('decimal(15, 2)').alias('value'),\n",
    "            col('ST_CONTA_FIXA').alias('account_status'),\n",
    "            lit('Income Statement').alias('type')\n",
    "        ) \\\n",
    "        .withColumn('period_type', \n",
    "                when( (month(col('start_of_period')) == 1) & (month(col('end_of_period')) != 3), lit('YTD')).otherwise(lit('Quarter')))"
   ]
  },
  {
   "cell_type": "code",
   "execution_count": 94,
   "metadata": {},
   "outputs": [],
   "source": [
    "cash_flow_ind_df = \\\n",
    "    get_cvm_financial_statement('DFC_MI', 2022) \\\n",
    "        .select(\n",
    "            trim('CNPJ_CIA').alias('cnpj'),\n",
    "            col('DT_REFER').cast('date').alias('base_date'),\n",
    "            col('GRUPO_DFP').alias('financial_statement_type'),\n",
    "            col('MOEDA').alias('currency'),\n",
    "            col('ESCALA_MOEDA').alias('scale'),\n",
    "            col('ORDEM_EXERC').alias('order'),\n",
    "            col('DT_INI_EXERC').cast('date').alias('start_of_period'),\n",
    "            col('DT_FIM_EXERC').cast('date').alias('end_of_period'),\n",
    "            trim('CD_CONTA').alias('id_account'),\n",
    "            col('DS_CONTA').alias('account_description'),\n",
    "            col('VL_CONTA').cast('decimal(15, 2)').alias('value'),\n",
    "            col('ST_CONTA_FIXA').alias('account_status'),\n",
    "            lit('Indirect Cash Flow').alias('type'),\n",
    "            lit('YTD').alias('period_type')\n",
    "        )"
   ]
  },
  {
   "cell_type": "code",
   "execution_count": 96,
   "metadata": {},
   "outputs": [
    {
     "name": "stdout",
     "output_type": "stream",
     "text": [
      "+------------------+----------+------------------------+--------+-----+---------+---------------+-------------+----------+--------------------+----------+--------------+----------------+-----------+\n",
      "|              cnpj| base_date|financial_statement_type|currency|scale|    order|start_of_period|end_of_period|id_account| account_description|     value|account_status|            type|period_type|\n",
      "+------------------+----------+------------------------+--------+-----+---------+---------------+-------------+----------+--------------------+----------+--------------+----------------+-----------+\n",
      "|00.070.698/0001-11|2022-03-31|    DF Consolidado - ...|    REAL|  MIL|PENÚLTIMO|     2021-01-01|   2021-03-31|      6.01|Caixa Líquido Ati...| -21697.00|             S|Direct Cash Flow|        YTD|\n",
      "|00.070.698/0001-11|2022-03-31|    DF Consolidado - ...|    REAL|  MIL|   ÚLTIMO|     2022-01-01|   2022-03-31|      6.01|Caixa Líquido Ati...|  17407.00|             S|Direct Cash Flow|        YTD|\n",
      "|00.070.698/0001-11|2022-03-31|    DF Consolidado - ...|    REAL|  MIL|PENÚLTIMO|     2021-01-01|   2021-03-31|      6.02|Caixa Líquido Ati...|2514762.00|             S|Direct Cash Flow|        YTD|\n",
      "|00.070.698/0001-11|2022-03-31|    DF Consolidado - ...|    REAL|  MIL|   ÚLTIMO|     2022-01-01|   2022-03-31|      6.02|Caixa Líquido Ati...|  -1097.00|             S|Direct Cash Flow|        YTD|\n",
      "|00.070.698/0001-11|2022-03-31|    DF Consolidado - ...|    REAL|  MIL|PENÚLTIMO|     2021-01-01|   2021-03-31|      6.03|Caixa Líquido Ati...| -99619.00|             S|Direct Cash Flow|        YTD|\n",
      "|00.070.698/0001-11|2022-03-31|    DF Consolidado - ...|    REAL|  MIL|   ÚLTIMO|     2022-01-01|   2022-03-31|      6.03|Caixa Líquido Ati...|      0.00|             S|Direct Cash Flow|        YTD|\n",
      "|00.070.698/0001-11|2022-03-31|    DF Consolidado - ...|    REAL|  MIL|PENÚLTIMO|     2021-01-01|   2021-03-31|      6.04|Variação Cambial ...|      0.00|             S|Direct Cash Flow|        YTD|\n",
      "|00.070.698/0001-11|2022-03-31|    DF Consolidado - ...|    REAL|  MIL|   ÚLTIMO|     2022-01-01|   2022-03-31|      6.04|Variação Cambial ...|      0.00|             S|Direct Cash Flow|        YTD|\n",
      "|00.070.698/0001-11|2022-03-31|    DF Consolidado - ...|    REAL|  MIL|PENÚLTIMO|     2021-01-01|   2021-03-31|      6.05|Aumento (Redução)...|2393446.00|             S|Direct Cash Flow|        YTD|\n",
      "|00.070.698/0001-11|2022-03-31|    DF Consolidado - ...|    REAL|  MIL|   ÚLTIMO|     2022-01-01|   2022-03-31|      6.05|Aumento (Redução)...|  16310.00|             S|Direct Cash Flow|        YTD|\n",
      "|00.070.698/0001-11|2022-03-31|    DF Consolidado - ...|    REAL|  MIL|PENÚLTIMO|     2021-01-01|   2021-03-31|   6.05.01|Saldo Inicial de ...| 136703.00|             S|Direct Cash Flow|        YTD|\n",
      "|00.070.698/0001-11|2022-03-31|    DF Consolidado - ...|    REAL|  MIL|   ÚLTIMO|     2022-01-01|   2022-03-31|   6.05.01|Saldo Inicial de ...| 714792.00|             S|Direct Cash Flow|        YTD|\n",
      "|00.070.698/0001-11|2022-03-31|    DF Consolidado - ...|    REAL|  MIL|PENÚLTIMO|     2021-01-01|   2021-03-31|   6.05.02|Saldo Final de Ca...|2530149.00|             S|Direct Cash Flow|        YTD|\n",
      "|00.070.698/0001-11|2022-03-31|    DF Consolidado - ...|    REAL|  MIL|   ÚLTIMO|     2022-01-01|   2022-03-31|   6.05.02|Saldo Final de Ca...| 731102.00|             S|Direct Cash Flow|        YTD|\n",
      "|00.070.698/0001-11|2022-06-30|    DF Consolidado - ...|    REAL|  MIL|PENÚLTIMO|     2021-01-01|   2021-06-30|      6.01|Caixa Líquido Ati...|-564171.00|             S|Direct Cash Flow|        YTD|\n",
      "|00.070.698/0001-11|2022-06-30|    DF Consolidado - ...|    REAL|  MIL|   ÚLTIMO|     2022-01-01|   2022-06-30|      6.01|Caixa Líquido Ati...|  65311.00|             S|Direct Cash Flow|        YTD|\n",
      "|00.070.698/0001-11|2022-06-30|    DF Consolidado - ...|    REAL|  MIL|PENÚLTIMO|     2021-01-01|   2021-06-30|      6.02|Caixa Líquido Ati...|2513510.00|             S|Direct Cash Flow|        YTD|\n",
      "|00.070.698/0001-11|2022-06-30|    DF Consolidado - ...|    REAL|  MIL|   ÚLTIMO|     2022-01-01|   2022-06-30|      6.02|Caixa Líquido Ati...|  -1890.00|             S|Direct Cash Flow|        YTD|\n",
      "|00.070.698/0001-11|2022-06-30|    DF Consolidado - ...|    REAL|  MIL|PENÚLTIMO|     2021-01-01|   2021-06-30|      6.03|Caixa Líquido Ati...|-678773.00|             S|Direct Cash Flow|        YTD|\n",
      "|00.070.698/0001-11|2022-06-30|    DF Consolidado - ...|    REAL|  MIL|   ÚLTIMO|     2022-01-01|   2022-06-30|      6.03|Caixa Líquido Ati...|-274086.00|             S|Direct Cash Flow|        YTD|\n",
      "+------------------+----------+------------------------+--------+-----+---------+---------------+-------------+----------+--------------------+----------+--------------+----------------+-----------+\n",
      "only showing top 20 rows\n",
      "\n"
     ]
    }
   ],
   "source": [
    "cash_flow_dir_df = \\\n",
    "    get_cvm_financial_statement('DFC_MD', 2022) \\\n",
    "        .select(\n",
    "            trim('CNPJ_CIA').alias('cnpj'),\n",
    "            col('DT_REFER').cast('date').alias('base_date'),\n",
    "            col('GRUPO_DFP').alias('financial_statement_type'),\n",
    "            col('MOEDA').alias('currency'),\n",
    "            col('ESCALA_MOEDA').alias('scale'),\n",
    "            col('ORDEM_EXERC').alias('order'),\n",
    "            col('DT_INI_EXERC').cast('date').alias('start_of_period'),\n",
    "            col('DT_FIM_EXERC').cast('date').alias('end_of_period'),\n",
    "            trim('CD_CONTA').alias('id_account'),\n",
    "            col('DS_CONTA').alias('account_description'),\n",
    "            col('VL_CONTA').cast('decimal(15, 2)').alias('value'),\n",
    "            col('ST_CONTA_FIXA').alias('account_status'),\n",
    "            lit('Direct Cash Flow').alias('type'),\n",
    "            lit('YTD').alias('period_type')\n",
    "        ) \\\n",
    "        .show()"
   ]
  },
  {
   "attachments": {},
   "cell_type": "markdown",
   "metadata": {},
   "source": [
    "##### Write to DW"
   ]
  },
  {
   "cell_type": "code",
   "execution_count": null,
   "metadata": {},
   "outputs": [],
   "source": [
    "#df = dim_ticker\n",
    "\n",
    "#write_to_dw(df, 'dim_ticker')"
   ]
  }
 ],
 "metadata": {
  "kernelspec": {
   "display_name": "Python 3 (ipykernel)",
   "language": "python",
   "name": "python3"
  },
  "language_info": {
   "codemirror_mode": {
    "name": "ipython",
    "version": 3
   },
   "file_extension": ".py",
   "mimetype": "text/x-python",
   "name": "python",
   "nbconvert_exporter": "python",
   "pygments_lexer": "ipython3",
   "version": "3.9.7"
  },
  "orig_nbformat": 4
 },
 "nbformat": 4,
 "nbformat_minor": 2
}
