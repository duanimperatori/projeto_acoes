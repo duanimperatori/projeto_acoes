{
 "cells": [
  {
   "cell_type": "code",
   "execution_count": 1,
   "metadata": {},
   "outputs": [],
   "source": [
    "import yfinance as yf\n",
    "#import investpy as py\n",
    "import pandas as pd\n",
    "from datetime import date, timedelta\n",
    "from pyspark.sql.types import StructField, StructType, StringType, IntegerType, DecimalType, DateType, TimestampType, FloatType\n",
    "from pyspark.sql.functions import udf, col, lit, year, month, date_trunc"
   ]
  },
  {
   "attachments": {},
   "cell_type": "markdown",
   "metadata": {},
   "source": [
    "#### call lib"
   ]
  },
  {
   "cell_type": "code",
   "execution_count": 2,
   "metadata": {},
   "outputs": [
    {
     "name": "stderr",
     "output_type": "stream",
     "text": [
      "WARNING: An illegal reflective access operation has occurred\n",
      "WARNING: Illegal reflective access by org.apache.spark.unsafe.Platform (file:/usr/local/spark-3.1.2-bin-hadoop3.2/jars/spark-unsafe_2.12-3.1.2.jar) to constructor java.nio.DirectByteBuffer(long,int)\n",
      "WARNING: Please consider reporting this to the maintainers of org.apache.spark.unsafe.Platform\n",
      "WARNING: Use --illegal-access=warn to enable warnings of further illegal reflective access operations\n",
      "WARNING: All illegal access operations will be denied in a future release\n"
     ]
    },
    {
     "name": "stdout",
     "output_type": "stream",
     "text": [
      ":: loading settings :: url = jar:file:/usr/local/spark-3.1.2-bin-hadoop3.2/jars/ivy-2.4.0.jar!/org/apache/ivy/core/settings/ivysettings.xml\n"
     ]
    },
    {
     "name": "stderr",
     "output_type": "stream",
     "text": [
      "Ivy Default Cache set to: /home/jovyan/.ivy2/cache\n",
      "The jars for the packages stored in: /home/jovyan/.ivy2/jars\n",
      "io.delta#delta-core_2.12 added as a dependency\n",
      ":: resolving dependencies :: org.apache.spark#spark-submit-parent-9f96d11b-057e-4247-8d53-20faf1ecee31;1.0\n",
      "\tconfs: [default]\n",
      "\tfound io.delta#delta-core_2.12;1.0.0 in central\n",
      "\tfound org.antlr#antlr4;4.7 in central\n",
      "\tfound org.antlr#antlr4-runtime;4.7 in central\n",
      "\tfound org.antlr#antlr-runtime;3.5.2 in central\n",
      "\tfound org.antlr#ST4;4.0.8 in central\n",
      "\tfound org.abego.treelayout#org.abego.treelayout.core;1.0.3 in central\n",
      "\tfound org.glassfish#javax.json;1.0.4 in central\n",
      "\tfound com.ibm.icu#icu4j;58.2 in central\n",
      "downloading https://repo1.maven.org/maven2/io/delta/delta-core_2.12/1.0.0/delta-core_2.12-1.0.0.jar ...\n",
      "\t[SUCCESSFUL ] io.delta#delta-core_2.12;1.0.0!delta-core_2.12.jar (851ms)\n",
      "downloading https://repo1.maven.org/maven2/org/antlr/antlr4/4.7/antlr4-4.7.jar ...\n",
      "\t[SUCCESSFUL ] org.antlr#antlr4;4.7!antlr4.jar (216ms)\n",
      "downloading https://repo1.maven.org/maven2/org/antlr/antlr4-runtime/4.7/antlr4-runtime-4.7.jar ...\n",
      "\t[SUCCESSFUL ] org.antlr#antlr4-runtime;4.7!antlr4-runtime.jar (152ms)\n",
      "downloading https://repo1.maven.org/maven2/org/antlr/antlr-runtime/3.5.2/antlr-runtime-3.5.2.jar ...\n",
      "\t[SUCCESSFUL ] org.antlr#antlr-runtime;3.5.2!antlr-runtime.jar (137ms)\n",
      "downloading https://repo1.maven.org/maven2/org/antlr/ST4/4.0.8/ST4-4.0.8.jar ...\n",
      "\t[SUCCESSFUL ] org.antlr#ST4;4.0.8!ST4.jar (142ms)\n",
      "downloading https://repo1.maven.org/maven2/org/abego/treelayout/org.abego.treelayout.core/1.0.3/org.abego.treelayout.core-1.0.3.jar ...\n",
      "\t[SUCCESSFUL ] org.abego.treelayout#org.abego.treelayout.core;1.0.3!org.abego.treelayout.core.jar(bundle) (126ms)\n",
      "downloading https://repo1.maven.org/maven2/org/glassfish/javax.json/1.0.4/javax.json-1.0.4.jar ...\n",
      "\t[SUCCESSFUL ] org.glassfish#javax.json;1.0.4!javax.json.jar(bundle) (135ms)\n",
      "downloading https://repo1.maven.org/maven2/com/ibm/icu/icu4j/58.2/icu4j-58.2.jar ...\n",
      "\t[SUCCESSFUL ] com.ibm.icu#icu4j;58.2!icu4j.jar (1030ms)\n",
      ":: resolution report :: resolve 12963ms :: artifacts dl 2792ms\n",
      "\t:: modules in use:\n",
      "\tcom.ibm.icu#icu4j;58.2 from central in [default]\n",
      "\tio.delta#delta-core_2.12;1.0.0 from central in [default]\n",
      "\torg.abego.treelayout#org.abego.treelayout.core;1.0.3 from central in [default]\n",
      "\torg.antlr#ST4;4.0.8 from central in [default]\n",
      "\torg.antlr#antlr-runtime;3.5.2 from central in [default]\n",
      "\torg.antlr#antlr4;4.7 from central in [default]\n",
      "\torg.antlr#antlr4-runtime;4.7 from central in [default]\n",
      "\torg.glassfish#javax.json;1.0.4 from central in [default]\n",
      "\t---------------------------------------------------------------------\n",
      "\t|                  |            modules            ||   artifacts   |\n",
      "\t|       conf       | number| search|dwnlded|evicted|| number|dwnlded|\n",
      "\t---------------------------------------------------------------------\n",
      "\t|      default     |   8   |   8   |   8   |   0   ||   8   |   8   |\n",
      "\t---------------------------------------------------------------------\n",
      ":: retrieving :: org.apache.spark#spark-submit-parent-9f96d11b-057e-4247-8d53-20faf1ecee31\n",
      "\tconfs: [default]\n",
      "\t8 artifacts copied, 0 already retrieved (15452kB/22ms)\n",
      "23/05/27 21:21:01 WARN NativeCodeLoader: Unable to load native-hadoop library for your platform... using builtin-java classes where applicable\n",
      "Using Spark's default log4j profile: org/apache/spark/log4j-defaults.properties\n",
      "Setting default log level to \"WARN\".\n",
      "To adjust logging level use sc.setLogLevel(newLevel). For SparkR, use setLogLevel(newLevel).\n"
     ]
    }
   ],
   "source": [
    "%run ./work/lib.ipynb"
   ]
  },
  {
   "attachments": {},
   "cell_type": "markdown",
   "metadata": {},
   "source": [
    "##### base date"
   ]
  },
  {
   "cell_type": "code",
   "execution_count": 3,
   "metadata": {},
   "outputs": [],
   "source": [
    "load_years = 15\n",
    "date_today = date.today()\n",
    "base_date = date_today - timedelta(days= 30 * 12 * load_years)\n",
    "base_date = date(base_date.year, 1, 1)"
   ]
  },
  {
   "attachments": {},
   "cell_type": "markdown",
   "metadata": {},
   "source": [
    "##### stock list"
   ]
  },
  {
   "cell_type": "code",
   "execution_count": 4,
   "metadata": {},
   "outputs": [],
   "source": [
    "stocks_df = \\\n",
    "    spark \\\n",
    "        .read \\\n",
    "        .format('csv') \\\n",
    "        .option('header', 'true') \\\n",
    "        .option('delimiter', ';') \\\n",
    "        .load('{}/extract/stock_list.csv'.format(LAKE_HOME))\n",
    "\n",
    "stock_list = \\\n",
    "    stocks_df \\\n",
    "        .rdd \\\n",
    "        .map(lambda x: x[0]) \\\n",
    "        .collect()"
   ]
  },
  {
   "attachments": {},
   "cell_type": "markdown",
   "metadata": {},
   "source": [
    "#### dividends"
   ]
  },
  {
   "cell_type": "code",
   "execution_count": 5,
   "metadata": {},
   "outputs": [],
   "source": [
    "def get_dividends(tickers: list):\n",
    "    import pandas as pd\n",
    "    df = pd.DataFrame()\n",
    "\n",
    "    schema = StructType([\n",
    "        StructField('date', TimestampType(), True),\n",
    "        StructField('dividend', FloatType(), True),\n",
    "        StructField('ticker', StringType(), True),\n",
    "    ])\n",
    "\n",
    "    for ticker in tickers:\n",
    "       \n",
    "        try:\n",
    "            download = pd.DataFrame()\n",
    "            ticker_request = ticker + '.SA'\n",
    "            print(f'Buscando info: {ticker}')\n",
    "            download['dividends'] = yf.Ticker(ticker_request).dividends\n",
    "            download['ticker'] = ticker\n",
    "            df = df.append(download)\n",
    "        except:\n",
    "            print(f'Error {ticker}...')\n",
    "            continue\n",
    "\n",
    "    df.rename_axis('date', inplace=True)\n",
    "    df.reset_index(inplace=True)\n",
    "\n",
    "    table = spark.createDataFrame(df, schema)\n",
    "    \n",
    "    return table"
   ]
  },
  {
   "cell_type": "code",
   "execution_count": 6,
   "metadata": {},
   "outputs": [
    {
     "name": "stdout",
     "output_type": "stream",
     "text": [
      "Buscando info: ABEV3\n",
      "Buscando info: AMER3\n",
      "Buscando info: AURA33\n",
      "Buscando info: B3SA3\n",
      "Buscando info: BBDC4\n",
      "Buscando info: BBAS3\n",
      "Buscando info: BRKM5\n",
      "Buscando info: BRFS3\n",
      "Buscando info: CXSE3\n",
      "Buscando info: ELET6\n",
      "Buscando info: CSNA3\n",
      "Buscando info: SBSP3\n",
      "Buscando info: SAPR11\n",
      "Buscando info: CMIG4\n",
      "Buscando info: CPLE6\n",
      "Buscando info: TRPL4\n",
      "Buscando info: DXCO3\n",
      "Buscando info: EGIE3\n",
      "Buscando info: FLRY3\n",
      "Buscando info: GGBR4\n",
      "Buscando info: IRBR3\n",
      "Buscando info: ITUB4\n",
      "Buscando info: ITSA4\n",
      "Buscando info: JBSS3\n",
      "Buscando info: KLBN4\n",
      "Buscando info: MGLU3\n",
      "Buscando info: POMO4\n",
      "Buscando info: PETR4\n",
      "Buscando info: PRIO3\n",
      "Buscando info: SHUL4\n",
      "Buscando info: SQIA3\n",
      "Buscando info: SLCE3\n",
      "Buscando info: VIVT3\n",
      "Buscando info: TAEE11\n",
      "Buscando info: TUPY3\n",
      "Buscando info: UNIP6\n",
      "Buscando info: USIM5\n",
      "Buscando info: VALE3\n",
      "Buscando info: VIIA3\n",
      "Buscando info: WEGE3\n"
     ]
    }
   ],
   "source": [
    "df = get_dividends(tickers=stock_list)"
   ]
  },
  {
   "cell_type": "code",
   "execution_count": 7,
   "metadata": {},
   "outputs": [],
   "source": [
    "fact_dividends = \\\n",
    "    df \\\n",
    "        .withColumn('year', year(col('date'))) \\\n",
    "        .withColumn('month', (date_trunc('month', col('date'))).cast('date')) \\\n",
    "        .select(\n",
    "            col('date').cast('date').alias('date'),\n",
    "            col('year'),\n",
    "            col('month'),\n",
    "            col('ticker'),\n",
    "            col('dividend')\n",
    "        )"
   ]
  },
  {
   "attachments": {},
   "cell_type": "markdown",
   "metadata": {},
   "source": [
    "##### Write to DW"
   ]
  },
  {
   "cell_type": "code",
   "execution_count": 8,
   "metadata": {},
   "outputs": [
    {
     "name": "stderr",
     "output_type": "stream",
     "text": [
      "                                                                                \r"
     ]
    }
   ],
   "source": [
    "df = fact_dividends\n",
    "\n",
    "write_to_dw(df, 'fact_dividend')"
   ]
  }
 ],
 "metadata": {
  "kernelspec": {
   "display_name": "Python 3 (ipykernel)",
   "language": "python",
   "name": "python3"
  },
  "language_info": {
   "codemirror_mode": {
    "name": "ipython",
    "version": 3
   },
   "file_extension": ".py",
   "mimetype": "text/x-python",
   "name": "python",
   "nbconvert_exporter": "python",
   "pygments_lexer": "ipython3",
   "version": "3.9.7"
  },
  "orig_nbformat": 4
 },
 "nbformat": 4,
 "nbformat_minor": 2
}
