{
 "cells": [
  {
   "cell_type": "code",
   "execution_count": 1,
   "metadata": {},
   "outputs": [],
   "source": [
    "import requests, zipfile\n",
    "from datetime import date, timedelta\n",
    "from pyspark.sql.types import StructField, StructType, StringType, IntegerType, DecimalType, DateType, TimestampType, FloatType\n",
    "from pyspark.sql.functions import udf, col, lit, when, trim, month, year\n",
    "from pyspark import SparkFiles"
   ]
  },
  {
   "attachments": {},
   "cell_type": "markdown",
   "metadata": {},
   "source": [
    "#### call lib"
   ]
  },
  {
   "cell_type": "code",
   "execution_count": 2,
   "metadata": {},
   "outputs": [
    {
     "name": "stderr",
     "output_type": "stream",
     "text": [
      "WARNING: An illegal reflective access operation has occurred\n",
      "WARNING: Illegal reflective access by org.apache.spark.unsafe.Platform (file:/usr/local/spark-3.1.2-bin-hadoop3.2/jars/spark-unsafe_2.12-3.1.2.jar) to constructor java.nio.DirectByteBuffer(long,int)\n",
      "WARNING: Please consider reporting this to the maintainers of org.apache.spark.unsafe.Platform\n",
      "WARNING: Use --illegal-access=warn to enable warnings of further illegal reflective access operations\n",
      "WARNING: All illegal access operations will be denied in a future release\n"
     ]
    },
    {
     "name": "stdout",
     "output_type": "stream",
     "text": [
      ":: loading settings :: url = jar:file:/usr/local/spark-3.1.2-bin-hadoop3.2/jars/ivy-2.4.0.jar!/org/apache/ivy/core/settings/ivysettings.xml\n"
     ]
    },
    {
     "name": "stderr",
     "output_type": "stream",
     "text": [
      "Ivy Default Cache set to: /home/jovyan/.ivy2/cache\n",
      "The jars for the packages stored in: /home/jovyan/.ivy2/jars\n",
      "io.delta#delta-core_2.12 added as a dependency\n",
      ":: resolving dependencies :: org.apache.spark#spark-submit-parent-42f75bc7-7e07-4919-a31b-56bf12a94cf2;1.0\n",
      "\tconfs: [default]\n",
      "\tfound io.delta#delta-core_2.12;1.0.0 in central\n",
      "\tfound org.antlr#antlr4;4.7 in central\n",
      "\tfound org.antlr#antlr4-runtime;4.7 in central\n",
      "\tfound org.antlr#antlr-runtime;3.5.2 in central\n",
      "\tfound org.antlr#ST4;4.0.8 in central\n",
      "\tfound org.abego.treelayout#org.abego.treelayout.core;1.0.3 in central\n",
      "\tfound org.glassfish#javax.json;1.0.4 in central\n",
      "\tfound com.ibm.icu#icu4j;58.2 in central\n",
      ":: resolution report :: resolve 352ms :: artifacts dl 6ms\n",
      "\t:: modules in use:\n",
      "\tcom.ibm.icu#icu4j;58.2 from central in [default]\n",
      "\tio.delta#delta-core_2.12;1.0.0 from central in [default]\n",
      "\torg.abego.treelayout#org.abego.treelayout.core;1.0.3 from central in [default]\n",
      "\torg.antlr#ST4;4.0.8 from central in [default]\n",
      "\torg.antlr#antlr-runtime;3.5.2 from central in [default]\n",
      "\torg.antlr#antlr4;4.7 from central in [default]\n",
      "\torg.antlr#antlr4-runtime;4.7 from central in [default]\n",
      "\torg.glassfish#javax.json;1.0.4 from central in [default]\n",
      "\t---------------------------------------------------------------------\n",
      "\t|                  |            modules            ||   artifacts   |\n",
      "\t|       conf       | number| search|dwnlded|evicted|| number|dwnlded|\n",
      "\t---------------------------------------------------------------------\n",
      "\t|      default     |   8   |   0   |   0   |   0   ||   8   |   0   |\n",
      "\t---------------------------------------------------------------------\n",
      ":: retrieving :: org.apache.spark#spark-submit-parent-42f75bc7-7e07-4919-a31b-56bf12a94cf2\n",
      "\tconfs: [default]\n",
      "\t0 artifacts copied, 8 already retrieved (0kB/8ms)\n",
      "23/05/28 18:10:01 WARN NativeCodeLoader: Unable to load native-hadoop library for your platform... using builtin-java classes where applicable\n",
      "Using Spark's default log4j profile: org/apache/spark/log4j-defaults.properties\n",
      "Setting default log level to \"WARN\".\n",
      "To adjust logging level use sc.setLogLevel(newLevel). For SparkR, use setLogLevel(newLevel).\n",
      "23/05/28 18:10:03 WARN Utils: Service 'SparkUI' could not bind on port 4040. Attempting port 4041.\n",
      "23/05/28 18:10:03 WARN Utils: Service 'SparkUI' could not bind on port 4041. Attempting port 4042.\n",
      "23/05/28 18:10:03 WARN Utils: Service 'SparkUI' could not bind on port 4042. Attempting port 4043.\n",
      "23/05/28 18:10:03 WARN Utils: Service 'SparkUI' could not bind on port 4043. Attempting port 4044.\n"
     ]
    }
   ],
   "source": [
    "%run ./work/lib.ipynb"
   ]
  },
  {
   "attachments": {},
   "cell_type": "markdown",
   "metadata": {},
   "source": [
    "#### Parametros"
   ]
  },
  {
   "cell_type": "code",
   "execution_count": 3,
   "metadata": {},
   "outputs": [],
   "source": [
    "number_exercises = 5\n",
    "end_year = date.today().year\n",
    "start_year = end_year - number_exercises + 1\n",
    "\n",
    "year_list = list(range(start_year, end_year + 1))"
   ]
  },
  {
   "attachments": {},
   "cell_type": "markdown",
   "metadata": {},
   "source": [
    "#### request cvm"
   ]
  },
  {
   "cell_type": "code",
   "execution_count": 4,
   "metadata": {},
   "outputs": [],
   "source": [
    "def get_cvm_financial_statement(fs_type: str, year: int, spark=spark):\n",
    "    \"\"\"\n",
    "    financial statements type (fs_type)\n",
    "    -- BPA - Assets\n",
    "    -- BPP - Liabilities\n",
    "    -- DRE - Income Statement\n",
    "    -- DFC_MI - Indirect Cash Flow\n",
    "    -- DFC_MD - Direct Cash Flow\n",
    "    \"\"\"\n",
    "    import pandas as pd\n",
    "\n",
    "    url = f'https://dados.cvm.gov.br/dados/CIA_ABERTA/DOC/ITR/DADOS/itr_cia_aberta_{year}.zip'\n",
    "    arquivo_zip = f'itr_cia_aberta_{year}.zip'\n",
    "    arquivo_csv = f'itr_cia_aberta_{fs_type}_con_{year}.csv'\n",
    "\n",
    "    download = requests.get(url)\n",
    "\n",
    "    with open(arquivo_zip, 'wb') as arquivo_cvm:\n",
    "        arquivo_cvm.write(download.content)\n",
    "\n",
    "    arquivo_zip = zipfile.ZipFile(arquivo_zip)\n",
    "\n",
    "    stocks_df = pd.read_csv(arquivo_zip.open(name=arquivo_csv), sep=';', encoding='ISO-8859-1')\n",
    "\n",
    "    df = spark.createDataFrame(stocks_df)\n",
    "\n",
    "    return df"
   ]
  },
  {
   "cell_type": "code",
   "execution_count": 5,
   "metadata": {},
   "outputs": [
    {
     "name": "stderr",
     "output_type": "stream",
     "text": [
      "                                                                                \r"
     ]
    }
   ],
   "source": [
    "stocks_df = \\\n",
    "    spark \\\n",
    "        .read \\\n",
    "        .format('csv') \\\n",
    "        .options(header='True', delimiter=';', encoding='iso-8859-1') \\\n",
    "        .csv('{}/extract/stock_list.csv'.format(LAKE_HOME)) \\\n",
    "        .select(\n",
    "            trim('CNPJ').alias('cnpj'),\n",
    "            col('TICKER').alias('ticker')\n",
    "        )"
   ]
  },
  {
   "cell_type": "code",
   "execution_count": 6,
   "metadata": {},
   "outputs": [],
   "source": [
    "asset_df = None\n",
    "liabilities_df = None\n",
    "\n",
    "for year in year_list:\n",
    "\n",
    "    if asset_df == None:\n",
    "        asset_df = get_cvm_financial_statement('BPA', year=year)\n",
    "    else:\n",
    "        asset_df = asset_df.unionAll(get_cvm_financial_statement('BPA', year=year))\n",
    "\n",
    "    if liabilities_df == None:\n",
    "        liabilities_df = get_cvm_financial_statement('BPP', year=year)\n",
    "    else:\n",
    "        liabilities_df = liabilities_df.unionAll(get_cvm_financial_statement('BPP', year=year))"
   ]
  },
  {
   "cell_type": "code",
   "execution_count": 12,
   "metadata": {},
   "outputs": [],
   "source": [
    "temp_asset_df = \\\n",
    "    asset_df \\\n",
    "        .select(\n",
    "            trim('CNPJ_CIA').alias('cnpj'),\n",
    "            col('DT_REFER').cast('date').alias('base_date'),\n",
    "            col('GRUPO_DFP').alias('financial_statement_type'),\n",
    "            col('MOEDA').alias('currency'),\n",
    "            col('ESCALA_MOEDA').alias('scale'),\n",
    "            col('ORDEM_EXERC').alias('order'),\n",
    "            lit('').cast('date').alias('start_of_period'),\n",
    "            col('DT_FIM_EXERC').cast('date').alias('end_of_period'),\n",
    "            trim('CD_CONTA').alias('id_account'),\n",
    "            col('DS_CONTA').alias('account_description'),\n",
    "            col('VL_CONTA').cast('decimal(15, 2)').alias('value'),\n",
    "            col('ST_CONTA_FIXA').alias('account_status'),\n",
    "            lit('Assets').alias('type'),\n",
    "            lit('YTD').alias('period_type')\n",
    "        )"
   ]
  },
  {
   "cell_type": "code",
   "execution_count": 13,
   "metadata": {},
   "outputs": [],
   "source": [
    "temp_liabilities_df = \\\n",
    "    liabilities_df \\\n",
    "        .select(\n",
    "            trim('CNPJ_CIA').alias('cnpj'),\n",
    "            col('DT_REFER').cast('date').alias('base_date'),\n",
    "            col('GRUPO_DFP').alias('financial_statement_type'),\n",
    "            col('MOEDA').alias('currency'),\n",
    "            col('ESCALA_MOEDA').alias('scale'),\n",
    "            col('ORDEM_EXERC').alias('order'),\n",
    "            lit('').cast('date').alias('start_of_period'),\n",
    "            col('DT_FIM_EXERC').cast('date').alias('end_of_period'),\n",
    "            trim('CD_CONTA').alias('id_account'),\n",
    "            col('DS_CONTA').alias('account_description'),\n",
    "            col('VL_CONTA').cast('decimal(15, 2)').alias('value'),\n",
    "            col('ST_CONTA_FIXA').alias('account_status'),\n",
    "            lit('Liabilities').alias('type'),\n",
    "            lit('YTD').alias('period_type')\n",
    "        )"
   ]
  },
  {
   "cell_type": "code",
   "execution_count": 16,
   "metadata": {},
   "outputs": [],
   "source": [
    "fact_balance = \\\n",
    "    temp_asset_df.unionAll(temp_liabilities_df) \\\n",
    "        .join(\n",
    "            stocks_df,\n",
    "            on=['cnpj'],\n",
    "            how='inner'\n",
    "        ) \\\n",
    "        .where(col('order') == 'ÚLTIMO')"
   ]
  },
  {
   "attachments": {},
   "cell_type": "markdown",
   "metadata": {},
   "source": [
    "##### Write to DW"
   ]
  },
  {
   "cell_type": "code",
   "execution_count": 18,
   "metadata": {},
   "outputs": [
    {
     "name": "stderr",
     "output_type": "stream",
     "text": [
      "                                                                                \r"
     ]
    }
   ],
   "source": [
    "df = fact_balance\n",
    "\n",
    "write_to_dw(df, 'fact_balance')"
   ]
  }
 ],
 "metadata": {
  "kernelspec": {
   "display_name": "Python 3 (ipykernel)",
   "language": "python",
   "name": "python3"
  },
  "language_info": {
   "codemirror_mode": {
    "name": "ipython",
    "version": 3
   },
   "file_extension": ".py",
   "mimetype": "text/x-python",
   "name": "python",
   "nbconvert_exporter": "python",
   "pygments_lexer": "ipython3",
   "version": "3.9.7"
  },
  "orig_nbformat": 4
 },
 "nbformat": 4,
 "nbformat_minor": 2
}
