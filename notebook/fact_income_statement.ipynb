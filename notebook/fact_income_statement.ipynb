{
 "cells": [
  {
   "cell_type": "code",
   "execution_count": 34,
   "metadata": {},
   "outputs": [],
   "source": [
    "import requests, zipfile\n",
    "from datetime import date, timedelta\n",
    "from pyspark.sql.types import StructField, StructType, StringType, IntegerType, DecimalType, DateType, TimestampType, FloatType\n",
    "from pyspark.sql.functions import udf, col, lit, when, trim, month, year, quarter\n",
    "from pyspark import SparkFiles"
   ]
  },
  {
   "attachments": {},
   "cell_type": "markdown",
   "metadata": {},
   "source": [
    "#### call lib"
   ]
  },
  {
   "cell_type": "code",
   "execution_count": 35,
   "metadata": {},
   "outputs": [],
   "source": [
    "%run ./work/lib.ipynb"
   ]
  },
  {
   "attachments": {},
   "cell_type": "markdown",
   "metadata": {},
   "source": [
    "#### Parametros"
   ]
  },
  {
   "cell_type": "code",
   "execution_count": 36,
   "metadata": {},
   "outputs": [],
   "source": [
    "number_exercises = 5\n",
    "end_year = date.today().year\n",
    "start_year = end_year - number_exercises + 1\n",
    "\n",
    "year_list = list(range(start_year, end_year + 1))"
   ]
  },
  {
   "attachments": {},
   "cell_type": "markdown",
   "metadata": {},
   "source": [
    "#### request cvm"
   ]
  },
  {
   "cell_type": "code",
   "execution_count": 37,
   "metadata": {},
   "outputs": [],
   "source": [
    "def get_cvm_financial_statement(fs_type: str, year: int, spark=spark):\n",
    "    \"\"\"\n",
    "    financial statements type (fs_type)\n",
    "    -- BPA - Assets\n",
    "    -- BPP - Liabilities\n",
    "    -- DRE - Income Statement\n",
    "    -- DFC_MI - Indirect Cash Flow\n",
    "    -- DFC_MD - Direct Cash Flow\n",
    "    \"\"\"\n",
    "    import pandas as pd\n",
    "\n",
    "    url = f'https://dados.cvm.gov.br/dados/CIA_ABERTA/DOC/ITR/DADOS/itr_cia_aberta_{year}.zip'\n",
    "    arquivo_zip = f'itr_cia_aberta_{year}.zip'\n",
    "    arquivo_csv = f'itr_cia_aberta_{fs_type}_con_{year}.csv'\n",
    "\n",
    "    download = requests.get(url)\n",
    "\n",
    "    with open(arquivo_zip, 'wb') as arquivo_cvm:\n",
    "        arquivo_cvm.write(download.content)\n",
    "\n",
    "    arquivo_zip = zipfile.ZipFile(arquivo_zip)\n",
    "\n",
    "    stocks_df = pd.read_csv(arquivo_zip.open(name=arquivo_csv), sep=';', encoding='ISO-8859-1')\n",
    "\n",
    "    df = spark.createDataFrame(stocks_df)\n",
    "\n",
    "    return df"
   ]
  },
  {
   "cell_type": "code",
   "execution_count": 38,
   "metadata": {},
   "outputs": [],
   "source": [
    "stocks_df = \\\n",
    "    spark \\\n",
    "        .read \\\n",
    "        .format('csv') \\\n",
    "        .options(header='True', delimiter=';', encoding='iso-8859-1') \\\n",
    "        .csv('{}/extract/stock_list.csv'.format(LAKE_HOME)) \\\n",
    "        .select(\n",
    "            trim('CNPJ').alias('cnpj'),\n",
    "            col('TICKER').alias('ticker')\n",
    "        )"
   ]
  },
  {
   "cell_type": "code",
   "execution_count": 44,
   "metadata": {},
   "outputs": [],
   "source": [
    "income_statement_df = None\n",
    "\n",
    "for year in year_list:\n",
    "\n",
    "    if income_statement_df == None:\n",
    "        income_statement_df = get_cvm_financial_statement('DRE', year=year)\n",
    "    else:\n",
    "        income_statement_df = income_statement_df.unionAll(get_cvm_financial_statement('DRE', year=year))"
   ]
  },
  {
   "cell_type": "code",
   "execution_count": 45,
   "metadata": {},
   "outputs": [],
   "source": [
    "income_statement_df = \\\n",
    "    income_statement_df \\\n",
    "        .where(\n",
    "            (col('ORDEM_EXERC') == 'ÚLTIMO')\n",
    "            ) \\\n",
    "        .select(\n",
    "            trim('CNPJ_CIA').alias('cnpj'),\n",
    "            col('DT_REFER').cast('date').alias('base_date'),\n",
    "            col('GRUPO_DFP').alias('financial_statement_type'),\n",
    "            col('MOEDA').alias('currency'),\n",
    "            col('ESCALA_MOEDA').alias('scale'),\n",
    "            col('ORDEM_EXERC').alias('order'),\n",
    "            col('DT_INI_EXERC').cast('date').alias('start_of_period'),\n",
    "            col('DT_FIM_EXERC').cast('date').alias('end_of_period'),\n",
    "            trim('CD_CONTA').alias('id_account'),\n",
    "            col('DS_CONTA').alias('account_description'),\n",
    "            col('VL_CONTA').cast('decimal(15, 2)').alias('value'),\n",
    "            col('ST_CONTA_FIXA').alias('account_status'),\n",
    "            lit('Income Statement').alias('type')\n",
    "        ) \\\n",
    "        .withColumn('period_type', \n",
    "                when( (month(col('start_of_period')) == 1) & (month(col('end_of_period')) != 3), lit('YTD')).otherwise(lit('Quarter')))\n",
    "\n",
    "income_statement_df = \\\n",
    "    income_statement_df \\\n",
    "        .join(\n",
    "            stocks_df,\n",
    "            on=['cnpj'],\n",
    "            how='inner'\n",
    "        ) \\\n",
    "        .where(col('period_type') == 'Quarter')"
   ]
  },
  {
   "attachments": {},
   "cell_type": "markdown",
   "metadata": {},
   "source": [
    "##### Write to DW"
   ]
  },
  {
   "cell_type": "code",
   "execution_count": 47,
   "metadata": {},
   "outputs": [
    {
     "name": "stderr",
     "output_type": "stream",
     "text": [
      "                                                                                \r"
     ]
    }
   ],
   "source": [
    "df = income_statement_df\n",
    "\n",
    "write_to_dw(df, 'fact_income_statement')"
   ]
  }
 ],
 "metadata": {
  "kernelspec": {
   "display_name": "Python 3 (ipykernel)",
   "language": "python",
   "name": "python3"
  },
  "language_info": {
   "codemirror_mode": {
    "name": "ipython",
    "version": 3
   },
   "file_extension": ".py",
   "mimetype": "text/x-python",
   "name": "python",
   "nbconvert_exporter": "python",
   "pygments_lexer": "ipython3",
   "version": "3.9.7"
  },
  "orig_nbformat": 4
 },
 "nbformat": 4,
 "nbformat_minor": 2
}
